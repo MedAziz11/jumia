{
 "cells": [
  {
   "cell_type": "code",
   "execution_count": 2,
   "metadata": {},
   "outputs": [
    {
     "output_type": "execute_result",
     "data": {
      "text/plain": "Empty DataFrame\nColumns: []\nIndex: []",
      "text/html": "<div>\n<style scoped>\n    .dataframe tbody tr th:only-of-type {\n        vertical-align: middle;\n    }\n\n    .dataframe tbody tr th {\n        vertical-align: top;\n    }\n\n    .dataframe thead th {\n        text-align: right;\n    }\n</style>\n<table border=\"1\" class=\"dataframe\">\n  <thead>\n    <tr style=\"text-align: right;\">\n      <th></th>\n    </tr>\n  </thead>\n  <tbody>\n  </tbody>\n</table>\n</div>"
     },
     "metadata": {},
     "execution_count": 2
    }
   ],
   "source": [
    "import requests\n",
    "from bs4 import BeautifulSoup\n",
    "from time import sleep\n",
    "import pandas as pd\n",
    "\n",
    "\n",
    "all_phones= []\n",
    "\n",
    "for page in range(1, 2):\n",
    "    Url = f\"https://www.jumia.com.tn/smartphones/?page={page}\"\n",
    "    html = requests.get(Url)\n",
    "    soup = BeautifulSoup(html.content, \"html.parser\")\n",
    "    phones = soup.find_all('a', class_=\"link\", href=True)\n",
    "    for phone in phones:\n",
    "        title = phone.find(\"h2\", class_=\"title\").text\n",
    "        name = title[0:title.find(\"-\")]\n",
    "        price = phone.find(\"span\", class_=\"price-box ri\").text\n",
    "        price = price[0:price.find(\"TND\")].replace(\"\\xa0\", \"\")\n",
    "        price = price.replace(\",\", \"\")\n",
    "        dict_phone = {\"title\" : name.replace(\"\\xa0\", \"\"), \"price\" : float(price), \"Link\" : phone[\"href\"]}\n",
    "        all_phones.append(dict_phone)\n",
    "        sleep(1)\n",
    "filtered = [phone for phone in all_phones if phone[\"price\"]>500.000]\n",
    "sorted_list = sorted(filtered, key=lambda k: -k['price']) \n",
    "graph = pd.DataFrame(sorted_list)\n",
    "graph"
   ]
  },
  {
   "cell_type": "code",
   "execution_count": null,
   "metadata": {},
   "outputs": [],
   "source": []
  }
 ],
 "metadata": {
  "language_info": {
   "codemirror_mode": {
    "name": "ipython",
    "version": 3
   },
   "file_extension": ".py",
   "mimetype": "text/x-python",
   "name": "python",
   "nbconvert_exporter": "python",
   "pygments_lexer": "ipython3",
   "version": "3.8.2-final"
  },
  "orig_nbformat": 2,
  "kernelspec": {
   "name": "python38264bitvenvvenvaa09aae1d93d4bafb8bfefa6274cf5a8",
   "display_name": "Python 3.8.2 64-bit ('venv': venv)"
  }
 },
 "nbformat": 4,
 "nbformat_minor": 2
}